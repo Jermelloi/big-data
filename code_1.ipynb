{
  "nbformat": 4,
  "nbformat_minor": 0,
  "metadata": {
    "colab": {
      "name": "code_1",
      "provenance": [],
      "collapsed_sections": [],
      "include_colab_link": true
    },
    "kernelspec": {
      "name": "ir",
      "display_name": "R"
    }
  },
  "cells": [
    {
      "cell_type": "markdown",
      "metadata": {
        "id": "view-in-github",
        "colab_type": "text"
      },
      "source": [
        "<a href=\"https://colab.research.google.com/github/Jermelloi/big-data/blob/master/code_1.ipynb\" target=\"_parent\"><img src=\"https://colab.research.google.com/assets/colab-badge.svg\" alt=\"Open In Colab\"/></a>"
      ]
    },
    {
      "cell_type": "code",
      "metadata": {
        "id": "6a6qdh4uXb1q",
        "colab_type": "code",
        "colab": {
          "base_uri": "https://localhost:8080/",
          "height": 34
        },
        "outputId": "0aea89a3-9a3b-4fae-c7ba-1e8b8afcfc2e"
      },
      "source": [
        "8 + 7"
      ],
      "execution_count": null,
      "outputs": [
        {
          "output_type": "display_data",
          "data": {
            "text/plain": [
              "[1] 15"
            ],
            "text/latex": "15",
            "text/markdown": "15",
            "text/html": [
              "15"
            ]
          },
          "metadata": {
            "tags": []
          }
        }
      ]
    },
    {
      "cell_type": "code",
      "metadata": {
        "id": "x1Qy6WdHXcKk",
        "colab_type": "code",
        "colab": {}
      },
      "source": [
        "my_H <- 163\n",
        "\n",
        "my_W <- 57\n",
        "\n",
        "my_BMI = my_W / (my_H * my_H / 10000)"
      ],
      "execution_count": null,
      "outputs": []
    },
    {
      "cell_type": "code",
      "metadata": {
        "id": "RRrU4jAbZfsn",
        "colab_type": "code",
        "colab": {
          "base_uri": "https://localhost:8080/",
          "height": 34
        },
        "outputId": "23f73563-7e24-4133-f00c-940a7ec4af56"
      },
      "source": [
        "my_H"
      ],
      "execution_count": null,
      "outputs": [
        {
          "output_type": "display_data",
          "data": {
            "text/plain": [
              "[1] 163"
            ],
            "text/latex": "163",
            "text/markdown": "163",
            "text/html": [
              "163"
            ]
          },
          "metadata": {
            "tags": []
          }
        }
      ]
    },
    {
      "cell_type": "code",
      "metadata": {
        "id": "rny3qeUqZi4t",
        "colab_type": "code",
        "colab": {
          "base_uri": "https://localhost:8080/",
          "height": 34
        },
        "outputId": "8ae743f0-e9b0-4602-ad1b-538d7d4465be"
      },
      "source": [
        "my_W"
      ],
      "execution_count": null,
      "outputs": [
        {
          "output_type": "display_data",
          "data": {
            "text/plain": [
              "[1] 57"
            ],
            "text/latex": "57",
            "text/markdown": "57",
            "text/html": [
              "57"
            ]
          },
          "metadata": {
            "tags": []
          }
        }
      ]
    },
    {
      "cell_type": "code",
      "metadata": {
        "id": "inAbFsQfZk7y",
        "colab_type": "code",
        "colab": {
          "base_uri": "https://localhost:8080/",
          "height": 34
        },
        "outputId": "04fc7037-97c5-4d5b-cee9-86e0466bf3ef"
      },
      "source": [
        "my_BMI"
      ],
      "execution_count": null,
      "outputs": [
        {
          "output_type": "display_data",
          "data": {
            "text/plain": [
              "[1] 21.45357"
            ],
            "text/latex": "21.4535737137265",
            "text/markdown": "21.4535737137265",
            "text/html": [
              "21.4535737137265"
            ]
          },
          "metadata": {
            "tags": []
          }
        }
      ]
    },
    {
      "cell_type": "code",
      "metadata": {
        "id": "XNp-TU6tbjY6",
        "colab_type": "code",
        "colab": {}
      },
      "source": [
        "first_name <- \"黃邦\""
      ],
      "execution_count": null,
      "outputs": []
    },
    {
      "cell_type": "code",
      "metadata": {
        "id": "Y7x9P8ohbqqY",
        "colab_type": "code",
        "colab": {
          "base_uri": "https://localhost:8080/",
          "height": 34
        },
        "outputId": "b87f1b39-55ea-46bb-d506-a165bf20761d"
      },
      "source": [
        "paste(\"我是\" ,first_name, \"我的身高\", my_H , my_W , my_BMI )"
      ],
      "execution_count": null,
      "outputs": [
        {
          "output_type": "display_data",
          "data": {
            "text/plain": [
              "[1] \"我是 黃邦 我的身高 163 57 21.4535737137265\""
            ],
            "text/latex": "'我是 黃邦 我的身高 163 57 21.4535737137265'",
            "text/markdown": "'我是 黃邦 我的身高 163 57 21.4535737137265'",
            "text/html": [
              "'我是 黃邦 我的身高 163 57 21.4535737137265'"
            ]
          },
          "metadata": {
            "tags": []
          }
        }
      ]
    }
  ]
}